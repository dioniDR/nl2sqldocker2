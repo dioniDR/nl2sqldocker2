{
 "cells": [
  {
   "cell_type": "code",
   "execution_count": 1,
   "id": "fbe2b522-0046-43f7-96b7-1c4504abc2ec",
   "metadata": {},
   "outputs": [
    {
     "name": "stdout",
     "output_type": "stream",
     "text": [
      "✅ sqlalchemy está instalado.\n",
      "✅ pymysql está instalado.\n",
      "✅ dotenv está instalado.\n"
     ]
    }
   ],
   "source": [
    "import importlib\n",
    "\n",
    "requeridos = [\"sqlalchemy\", \"pymysql\", \"dotenv\"]\n",
    "\n",
    "for paquete in requeridos:\n",
    "    try:\n",
    "        importlib.import_module(paquete)\n",
    "        print(f\"✅ {paquete} está instalado.\")\n",
    "    except ImportError:\n",
    "        print(f\"❌ {paquete} NO está instalado.\")\n"
   ]
  },
  {
   "cell_type": "code",
   "execution_count": null,
   "id": "bce33ce9-554f-4798-b79c-517874f07b49",
   "metadata": {},
   "outputs": [],
   "source": []
  }
 ],
 "metadata": {
  "kernelspec": {
   "display_name": "Python 3 (ipykernel)",
   "language": "python",
   "name": "python3"
  },
  "language_info": {
   "codemirror_mode": {
    "name": "ipython",
    "version": 3
   },
   "file_extension": ".py",
   "mimetype": "text/x-python",
   "name": "python",
   "nbconvert_exporter": "python",
   "pygments_lexer": "ipython3",
   "version": "3.12.7"
  }
 },
 "nbformat": 4,
 "nbformat_minor": 5
}
