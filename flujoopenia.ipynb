{
 "cells": [
  {
   "cell_type": "code",
   "execution_count": 4,
   "id": "5d95ff49-285a-4852-88a1-28eb29bcd9af",
   "metadata": {},
   "outputs": [],
   "source": [
    "from dotenv import load_dotenv\n",
    "import os\n",
    "from openai import OpenAI\n",
    "\n",
    "load_dotenv()\n",
    "client = OpenAI(api_key=os.getenv(\"OPENAI_API_KEY\"))\n"
   ]
  },
  {
   "cell_type": "code",
   "execution_count": 5,
   "id": "7677c60b-614e-4be6-8af3-ddfa9261346a",
   "metadata": {},
   "outputs": [],
   "source": [
    "history = [\n",
    "    {\"role\": \"system\", \"content\": \"Eres un asistente útil.\"}\n",
    "]\n"
   ]
  },
  {
   "cell_type": "code",
   "execution_count": 6,
   "id": "5af5a780-2901-47b7-8e73-3097af33b27b",
   "metadata": {},
   "outputs": [],
   "source": [
    "def chatear():\n",
    "    while True:\n",
    "        pregunta = input(\"Tú: \")\n",
    "        if pregunta.lower() in [\"salir\", \"exit\", \"q\"]:\n",
    "            print(\"👋 ¡Hasta luego!\")\n",
    "            break\n",
    "\n",
    "        history.append({\"role\": \"user\", \"content\": pregunta})\n",
    "\n",
    "        respuesta = client.chat.completions.create(\n",
    "            model=\"gpt-3.5-turbo\",\n",
    "            messages=history\n",
    "        )\n",
    "\n",
    "        mensaje = respuesta.choices[0].message.content\n",
    "        history.append({\"role\": \"assistant\", \"content\": mensaje})\n",
    "\n",
    "        print(\"Asistente:\", mensaje)\n"
   ]
  },
  {
   "cell_type": "code",
   "execution_count": 7,
   "id": "facbe867-95b6-45f1-8237-69058ba1e84f",
   "metadata": {},
   "outputs": [
    {
     "name": "stdout",
     "output_type": "stream",
     "text": [
      "✅ Conexión SQLAlchemy exitosa.\n"
     ]
    }
   ],
   "source": [
    "from sqlalchemy import create_engine, text\n",
    "from dotenv import load_dotenv\n",
    "import mysql.connector\n",
    "from mysql.connector import Error\n",
    "import os\n",
    "import time\n",
    "\n",
    "load_dotenv()\n",
    "\n",
    "DB_TYPE = os.getenv(\"DB_TYPE\")\n",
    "DB_HOST = os.getenv(\"DB_HOST\")\n",
    "DB_PORT = os.getenv(\"DB_PORT\")\n",
    "DB_USER = os.getenv(\"DB_USER\")\n",
    "DB_PASSWORD = os.getenv(\"DB_PASSWORD\")\n",
    "DB_NAME = os.getenv(\"DB_NAME\")\n",
    "\n",
    "db_url = f\"{DB_TYPE}+pymysql://{DB_USER}:{DB_PASSWORD}@{DB_HOST}:{DB_PORT}/{DB_NAME}\"\n",
    "\n",
    "def lanzar_mysqlconnector():\n",
    "    try:\n",
    "        connection = mysql.connector.connect(\n",
    "            host=DB_HOST,\n",
    "            port=int(DB_PORT),\n",
    "            user=DB_USER,\n",
    "            password=DB_PASSWORD,\n",
    "            database=DB_NAME\n",
    "        )\n",
    "        if connection.is_connected():\n",
    "            print(\"🚀 Lanzamiento con mysql.connector exitoso.\")\n",
    "    except Error as e:\n",
    "        print(\"❌ No se pudo lanzar con mysql.connector:\", e)\n",
    "    finally:\n",
    "        if 'connection' in locals() and connection.is_connected():\n",
    "            connection.close()\n",
    "            print(\"🛑 Conexión mysql.connector cerrada.\")\n",
    "\n",
    "def intentar_sqlalchemy():\n",
    "    try:\n",
    "        engine = create_engine(db_url, pool_pre_ping=True)\n",
    "        with engine.connect() as conn:\n",
    "            conn.execute(text(\"SELECT NOW();\"))\n",
    "            print(\"✅ Conexión SQLAlchemy exitosa.\")\n",
    "            return engine  # <--- aquí está el cambio importante\n",
    "    except Exception as e:\n",
    "        print(\"❌ Error en SQLAlchemy:\", e)\n",
    "        return None\n",
    "\n",
    "# Ejecutar flujo\n",
    "engine = intentar_sqlalchemy()\n",
    "if not engine:\n",
    "    print(\"🧪 Intentando lanzar mysql.connector como disparador...\")\n",
    "    lanzar_mysqlconnector()\n",
    "    time.sleep(2)\n",
    "    print(\"🔁 Reintentando SQLAlchemy...\")\n",
    "    engine = intentar_sqlalchemy()\n",
    "\n",
    "# engine ya queda disponible para usar\n"
   ]
  },
  {
   "cell_type": "code",
   "execution_count": 8,
   "id": "e3966178-455c-46cd-9923-87f795e03534",
   "metadata": {},
   "outputs": [],
   "source": [
    "def chatear_con_db(client, engine):\n",
    "    history = [{\"role\": \"system\", \"content\": \"Eres un experto en bases de datos. Devuelve solo SQL válido para responder preguntas del usuario.\"}]\n",
    "    \n",
    "    while True:\n",
    "        pregunta = input(\"Tú: \")\n",
    "        if pregunta.lower() in [\"salir\", \"exit\", \"q\"]:\n",
    "            print(\"👋 ¡Hasta luego!\")\n",
    "            break\n",
    "\n",
    "        history.append({\"role\": \"user\", \"content\": pregunta})\n",
    "\n",
    "        respuesta = client.chat.completions.create(\n",
    "            model=\"gpt-3.5-turbo\",\n",
    "            messages=history\n",
    "        )\n",
    "\n",
    "        sql = respuesta.choices[0].message.content.strip()\n",
    "        print(\"🔎 SQL generado:\", sql)\n",
    "\n",
    "        try:\n",
    "            with engine.connect() as conn:\n",
    "                resultado = conn.execute(text(sql))\n",
    "                filas = resultado.fetchall()\n",
    "                columnas = resultado.keys()\n",
    "                for fila in filas:\n",
    "                    print(dict(zip(columnas, fila)))\n",
    "        except Exception as e:\n",
    "            print(\"❌ Error al ejecutar SQL:\", e)\n",
    "\n",
    "        history.append({\"role\": \"assistant\", \"content\": sql})\n"
   ]
  },
  {
   "cell_type": "code",
   "execution_count": null,
   "id": "92b75304-7a6f-43e5-9f6a-95785fd3cbb5",
   "metadata": {},
   "outputs": [
    {
     "name": "stdin",
     "output_type": "stream",
     "text": [
      "Tú:  cuantas bases de datos hay\n"
     ]
    },
    {
     "name": "stdout",
     "output_type": "stream",
     "text": [
      "🔎 SQL generado: SELECT COUNT(*) as total_bases_de_datos FROM information_schema.schemata;\n",
      "{'total_bases_de_datos': 5}\n"
     ]
    },
    {
     "name": "stdin",
     "output_type": "stream",
     "text": [
      "Tú:  nombralas\n"
     ]
    },
    {
     "name": "stdout",
     "output_type": "stream",
     "text": [
      "🔎 SQL generado: SELECT schema_name FROM information_schema.schemata;\n",
      "{'SCHEMA_NAME': 'mysql'}\n",
      "{'SCHEMA_NAME': 'information_schema'}\n",
      "{'SCHEMA_NAME': 'performance_schema'}\n",
      "{'SCHEMA_NAME': 'sys'}\n",
      "{'SCHEMA_NAME': 'testdb'}\n"
     ]
    },
    {
     "name": "stdin",
     "output_type": "stream",
     "text": [
      "Tú:  muestrame las tablas de testdb\n"
     ]
    },
    {
     "name": "stdout",
     "output_type": "stream",
     "text": [
      "🔎 SQL generado: SELECT table_name FROM information_schema.tables WHERE table_schema = 'testdb';\n",
      "{'TABLE_NAME': 'clientes'}\n",
      "{'TABLE_NAME': 'productos'}\n",
      "{'TABLE_NAME': 'ventas'}\n"
     ]
    },
    {
     "name": "stdin",
     "output_type": "stream",
     "text": [
      "Tú:  muestrame clientes\n"
     ]
    },
    {
     "name": "stdout",
     "output_type": "stream",
     "text": [
      "🔎 SQL generado: SELECT * FROM clientes;\n",
      "{'id': 1, 'nombre': 'Juan', 'email': 'juan@email.com', 'fecha_registro': datetime.date(2023, 1, 15), 'apellido': 'Pérez', 'telefono': '555-1234', 'direccion': 'Calle 123', 'ciudad': 'Madrid', 'codigo_postal': '28001', 'pais': 'España', 'limite_credito': Decimal('1000.00'), 'comentarios': 'Cliente habitual', 'tipo_cliente': 'Regular'}\n",
      "{'id': 2, 'nombre': 'María', 'email': 'maria@email.com', 'fecha_registro': datetime.date(2023, 2, 20), 'apellido': 'González', 'telefono': '555-5678', 'direccion': 'Avenida Central 45', 'ciudad': 'Barcelona', 'codigo_postal': '08001', 'pais': 'España', 'limite_credito': Decimal('2500.00'), 'comentarios': 'Cliente preferente', 'tipo_cliente': 'VIP'}\n",
      "{'id': 3, 'nombre': 'Carlos', 'email': 'carlos@email.com', 'fecha_registro': datetime.date(2023, 3, 10), 'apellido': 'Rodríguez', 'telefono': '555-9012', 'direccion': 'Plaza Mayor 7', 'ciudad': 'Valencia', 'codigo_postal': '46001', 'pais': 'España', 'limite_credito': Decimal('500.00'), 'comentarios': 'Nuevo cliente', 'tipo_cliente': 'Nuevo'}\n",
      "{'id': 4, 'nombre': 'Ana', 'email': 'ana@email.com', 'fecha_registro': datetime.date(2023, 4, 5), 'apellido': 'Fernández', 'telefono': '555-3456', 'direccion': 'Calle Ancha 22', 'ciudad': 'Sevilla', 'codigo_postal': '41001', 'pais': 'España', 'limite_credito': Decimal('1500.00'), 'comentarios': 'Compras frecuentes', 'tipo_cliente': 'Regular'}\n",
      "{'id': 5, 'nombre': 'Pedro', 'email': 'pedro@email.com', 'fecha_registro': datetime.date(2023, 5, 18), 'apellido': 'López', 'telefono': '555-7890', 'direccion': 'Paseo de la Castellana 200', 'ciudad': 'Madrid', 'codigo_postal': '28046', 'pais': 'España', 'limite_credito': Decimal('3000.00'), 'comentarios': 'Cliente con alto poder adquisitivo', 'tipo_cliente': 'VIP'}\n",
      "{'id': 6, 'nombre': 'Laura', 'email': 'laura@email.com', 'fecha_registro': datetime.date(2023, 6, 22), 'apellido': 'Martínez', 'telefono': '555-2345', 'direccion': 'Gran Vía 56', 'ciudad': 'Madrid', 'codigo_postal': '28013', 'pais': 'España', 'limite_credito': Decimal('800.00'), 'comentarios': 'Cliente ocasional', 'tipo_cliente': 'Regular'}\n",
      "{'id': 7, 'nombre': 'Miguel', 'email': 'miguel@email.com', 'fecha_registro': datetime.date(2023, 7, 30), 'apellido': 'Sánchez', 'telefono': '555-6789', 'direccion': 'Rambla de Catalunya 33', 'ciudad': 'Barcelona', 'codigo_postal': '08007', 'pais': 'España', 'limite_credito': Decimal('1200.00'), 'comentarios': 'Interesado en nuevos productos', 'tipo_cliente': 'Regular'}\n",
      "{'id': 8, 'nombre': 'Sofía', 'email': 'sofia@email.com', 'fecha_registro': datetime.date(2023, 8, 12), 'apellido': 'Díaz', 'telefono': '555-0123', 'direccion': 'Calle Sierpes 15', 'ciudad': 'Sevilla', 'codigo_postal': '41004', 'pais': 'España', 'limite_credito': Decimal('2000.00'), 'comentarios': 'Cliente fiel', 'tipo_cliente': 'VIP'}\n",
      "{'id': 9, 'nombre': 'Javier', 'email': 'javier@email.com', 'fecha_registro': datetime.date(2023, 9, 3), 'apellido': 'Ruiz', 'telefono': '555-4567', 'direccion': 'Avenida Diagonal 123', 'ciudad': 'Barcelona', 'codigo_postal': '08018', 'pais': 'España', 'limite_credito': Decimal('600.00'), 'comentarios': 'Primera compra reciente', 'tipo_cliente': 'Nuevo'}\n",
      "{'id': 10, 'nombre': 'Carmen', 'email': 'carmen@email.com', 'fecha_registro': datetime.date(2023, 10, 25), 'apellido': 'Hernández', 'telefono': '555-8901', 'direccion': 'Calle Mayor 8', 'ciudad': 'Valencia', 'codigo_postal': '46002', 'pais': 'España', 'limite_credito': Decimal('1800.00'), 'comentarios': 'Cliente de temporada', 'tipo_cliente': 'Regular'}\n"
     ]
    }
   ],
   "source": [
    "chatear_con_db(client, engine)"
   ]
  },
  {
   "cell_type": "code",
   "execution_count": null,
   "id": "951e310f-b54e-4a31-bbdb-b98b0b1b0e66",
   "metadata": {},
   "outputs": [],
   "source": []
  },
  {
   "cell_type": "code",
   "execution_count": null,
   "id": "529de237-075d-4989-b02c-ddb5e57e46fe",
   "metadata": {},
   "outputs": [],
   "source": []
  }
 ],
 "metadata": {
  "kernelspec": {
   "display_name": "Python 3 (ipykernel)",
   "language": "python",
   "name": "python3"
  },
  "language_info": {
   "codemirror_mode": {
    "name": "ipython",
    "version": 3
   },
   "file_extension": ".py",
   "mimetype": "text/x-python",
   "name": "python",
   "nbconvert_exporter": "python",
   "pygments_lexer": "ipython3",
   "version": "3.12.7"
  }
 },
 "nbformat": 4,
 "nbformat_minor": 5
}
