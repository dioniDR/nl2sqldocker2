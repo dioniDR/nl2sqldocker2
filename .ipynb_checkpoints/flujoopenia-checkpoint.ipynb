{
 "cells": [
  {
   "cell_type": "code",
   "execution_count": 1,
   "id": "5d95ff49-285a-4852-88a1-28eb29bcd9af",
   "metadata": {},
   "outputs": [],
   "source": [
    "from dotenv import load_dotenv\n",
    "import os\n",
    "from openai import OpenAI\n",
    "\n",
    "load_dotenv()\n",
    "client = OpenAI(api_key=os.getenv(\"OPENAI_API_KEY\"))\n"
   ]
  },
  {
   "cell_type": "code",
   "execution_count": 2,
   "id": "7677c60b-614e-4be6-8af3-ddfa9261346a",
   "metadata": {},
   "outputs": [],
   "source": [
    "history = [\n",
    "    {\"role\": \"system\", \"content\": \"Eres un asistente útil.\"}\n",
    "]\n"
   ]
  },
  {
   "cell_type": "code",
   "execution_count": 3,
   "id": "5af5a780-2901-47b7-8e73-3097af33b27b",
   "metadata": {},
   "outputs": [],
   "source": [
    "def chatear():\n",
    "    while True:\n",
    "        pregunta = input(\"Tú: \")\n",
    "        if pregunta.lower() in [\"salir\", \"exit\", \"q\"]:\n",
    "            print(\"👋 ¡Hasta luego!\")\n",
    "            break\n",
    "\n",
    "        history.append({\"role\": \"user\", \"content\": pregunta})\n",
    "\n",
    "        respuesta = client.chat.completions.create(\n",
    "            model=\"gpt-3.5-turbo\",\n",
    "            messages=history\n",
    "        )\n",
    "\n",
    "        mensaje = respuesta.choices[0].message.content\n",
    "        history.append({\"role\": \"assistant\", \"content\": mensaje})\n",
    "\n",
    "        print(\"Asistente:\", mensaje)\n"
   ]
  },
  {
   "cell_type": "code",
   "execution_count": 1,
   "id": "facbe867-95b6-45f1-8237-69058ba1e84f",
   "metadata": {},
   "outputs": [
    {
     "name": "stdout",
     "output_type": "stream",
     "text": [
      "❌ Error en SQLAlchemy: 'cryptography' package is required for sha256_password or caching_sha2_password auth methods\n",
      "🧪 Intentando lanzar mysql.connector como disparador...\n",
      "🚀 Lanzamiento con mysql.connector exitoso.\n",
      "🛑 Conexión mysql.connector cerrada.\n",
      "🔁 Reintentando SQLAlchemy...\n",
      "✅ Conexión SQLAlchemy exitosa: 2025-04-07 19:51:10\n"
     ]
    }
   ],
   "source": [
    "from sqlalchemy import create_engine, text\n",
    "from dotenv import load_dotenv\n",
    "import mysql.connector\n",
    "from mysql.connector import Error\n",
    "import os\n",
    "import time\n",
    "\n",
    "# Cargar variables de entorno\n",
    "load_dotenv()\n",
    "\n",
    "DB_TYPE = os.getenv(\"DB_TYPE\")\n",
    "DB_HOST = os.getenv(\"DB_HOST\")\n",
    "DB_PORT = os.getenv(\"DB_PORT\")\n",
    "DB_USER = os.getenv(\"DB_USER\")\n",
    "DB_PASSWORD = os.getenv(\"DB_PASSWORD\")\n",
    "DB_NAME = os.getenv(\"DB_NAME\")\n",
    "\n",
    "db_url = f\"{DB_TYPE}+pymysql://{DB_USER}:{DB_PASSWORD}@{DB_HOST}:{DB_PORT}/{DB_NAME}\"\n",
    "\n",
    "def lanzar_mysqlconnector():\n",
    "    try:\n",
    "        connection = mysql.connector.connect(\n",
    "            host=DB_HOST,\n",
    "            port=int(DB_PORT),\n",
    "            user=DB_USER,\n",
    "            password=DB_PASSWORD,\n",
    "            database=DB_NAME\n",
    "        )\n",
    "        if connection.is_connected():\n",
    "            print(\"🚀 Lanzamiento con mysql.connector exitoso.\")\n",
    "    except Error as e:\n",
    "        print(\"❌ No se pudo lanzar con mysql.connector:\", e)\n",
    "    finally:\n",
    "        if 'connection' in locals() and connection.is_connected():\n",
    "            connection.close()\n",
    "            print(\"🛑 Conexión mysql.connector cerrada.\")\n",
    "\n",
    "def intentar_sqlalchemy():\n",
    "    try:\n",
    "        engine = create_engine(db_url, pool_pre_ping=True)\n",
    "        with engine.connect() as conn:\n",
    "            result = conn.execute(text(\"SELECT NOW();\"))\n",
    "            print(\"✅ Conexión SQLAlchemy exitosa:\", result.scalar())\n",
    "            return True\n",
    "    except Exception as e:\n",
    "        print(\"❌ Error en SQLAlchemy:\", e)\n",
    "        return False\n",
    "\n",
    "# Primer intento\n",
    "if not intentar_sqlalchemy():\n",
    "    print(\"🧪 Intentando lanzar mysql.connector como disparador...\")\n",
    "    lanzar_mysqlconnector()\n",
    "    time.sleep(2)  # pequeña pausa\n",
    "    print(\"🔁 Reintentando SQLAlchemy...\")\n",
    "    intentar_sqlalchemy()\n"
   ]
  },
  {
   "cell_type": "code",
   "execution_count": null,
   "id": "e3966178-455c-46cd-9923-87f795e03534",
   "metadata": {},
   "outputs": [],
   "source": []
  }
 ],
 "metadata": {
  "kernelspec": {
   "display_name": "Python 3 (ipykernel)",
   "language": "python",
   "name": "python3"
  },
  "language_info": {
   "codemirror_mode": {
    "name": "ipython",
    "version": 3
   },
   "file_extension": ".py",
   "mimetype": "text/x-python",
   "name": "python",
   "nbconvert_exporter": "python",
   "pygments_lexer": "ipython3",
   "version": "3.12.7"
  }
 },
 "nbformat": 4,
 "nbformat_minor": 5
}
