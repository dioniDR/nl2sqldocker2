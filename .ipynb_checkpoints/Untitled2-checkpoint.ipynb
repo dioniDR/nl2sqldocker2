{
 "cells": [
  {
   "cell_type": "code",
   "execution_count": 9,
   "id": "7e92da70-ba74-4a36-9462-f74c63e9ba1a",
   "metadata": {},
   "outputs": [
    {
     "name": "stdout",
     "output_type": "stream",
     "text": [
      "✅ Conectado a MySQL Server versión 8.0.41\n",
      "📚 Bases de datos disponibles:\n",
      " - information_schema\n",
      " - mysql\n",
      " - performance_schema\n",
      " - sys\n",
      " - testdb\n",
      "🔌 Conexión cerrada.\n"
     ]
    }
   ],
   "source": [
    "import mysql.connector\n",
    "from mysql.connector import Error\n",
    "\n",
    "try:\n",
    "    connection = mysql.connector.connect(\n",
    "        host='127.0.0.1',\n",
    "        port=3307,\n",
    "        user='root',\n",
    "        password='password',  # <-- Cámbiala si ya configuraste una\n",
    "        database='mysql'  # Puedes cambiarla si usas otra base\n",
    "    )\n",
    "\n",
    "    if connection.is_connected():\n",
    "        db_info = connection.get_server_info()\n",
    "        print(f\"✅ Conectado a MySQL Server versión {db_info}\")\n",
    "        cursor = connection.cursor()\n",
    "        cursor.execute(\"SHOW DATABASES;\")\n",
    "        print(\"📚 Bases de datos disponibles:\")\n",
    "        for db in cursor.fetchall():\n",
    "            print(f\" - {db[0]}\")\n",
    "\n",
    "except Error as e:\n",
    "    print(f\"❌ Error al conectar a MySQL: {e}\")\n",
    "\n",
    "finally:\n",
    "    if 'connection' in locals() and connection.is_connected():\n",
    "        cursor.close()\n",
    "        connection.close()\n",
    "        print(\"🔌 Conexión cerrada.\")\n"
   ]
  },
  {
   "cell_type": "code",
   "execution_count": null,
   "id": "7fd6555c-584f-407f-bd9b-c4bd86dc031b",
   "metadata": {},
   "outputs": [],
   "source": []
  }
 ],
 "metadata": {
  "kernelspec": {
   "display_name": "Python 3 (ipykernel)",
   "language": "python",
   "name": "python3"
  },
  "language_info": {
   "codemirror_mode": {
    "name": "ipython",
    "version": 3
   },
   "file_extension": ".py",
   "mimetype": "text/x-python",
   "name": "python",
   "nbconvert_exporter": "python",
   "pygments_lexer": "ipython3",
   "version": "3.12.7"
  }
 },
 "nbformat": 4,
 "nbformat_minor": 5
}
