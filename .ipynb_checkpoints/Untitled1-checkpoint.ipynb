{
 "cells": [
  {
   "cell_type": "code",
   "execution_count": 1,
   "id": "61f3be2a-3563-4f88-944f-1d8cc632d400",
   "metadata": {},
   "outputs": [
    {
     "name": "stdout",
     "output_type": "stream",
     "text": [
      "✅ sqlalchemy está instalado.\n",
      "✅ dotenv está instalado.\n",
      "✅ sqlite3 está disponible (módulo estándar de Python).\n"
     ]
    }
   ],
   "source": [
    "import importlib\n",
    "\n",
    "requeridos = [\"sqlalchemy\", \"dotenv\"]\n",
    "integrado = \"sqlite3\"\n",
    "\n",
    "# Revisa módulos externos\n",
    "for paquete in requeridos:\n",
    "    try:\n",
    "        importlib.import_module(paquete)\n",
    "        print(f\"✅ {paquete} está instalado.\")\n",
    "    except ImportError:\n",
    "        print(f\"❌ {paquete} NO está instalado.\")\n",
    "\n",
    "# Revisa el módulo nativo sqlite3\n",
    "try:\n",
    "    importlib.import_module(integrado)\n",
    "    print(f\"✅ {integrado} está disponible (módulo estándar de Python).\")\n",
    "except ImportError:\n",
    "    print(f\"❌ {integrado} NO está disponible.\")\n"
   ]
  },
  {
   "cell_type": "code",
   "execution_count": null,
   "id": "ebbbe378-d317-4332-b199-c348a4082666",
   "metadata": {},
   "outputs": [],
   "source": []
  }
 ],
 "metadata": {
  "kernelspec": {
   "display_name": "Python 3 (ipykernel)",
   "language": "python",
   "name": "python3"
  },
  "language_info": {
   "codemirror_mode": {
    "name": "ipython",
    "version": 3
   },
   "file_extension": ".py",
   "mimetype": "text/x-python",
   "name": "python",
   "nbconvert_exporter": "python",
   "pygments_lexer": "ipython3",
   "version": "3.12.7"
  }
 },
 "nbformat": 4,
 "nbformat_minor": 5
}
